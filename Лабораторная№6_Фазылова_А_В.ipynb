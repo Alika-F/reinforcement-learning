{
  "nbformat": 4,
  "nbformat_minor": 0,
  "metadata": {
    "colab": {
      "provenance": []
    },
    "kernelspec": {
      "name": "python3",
      "display_name": "Python 3"
    },
    "language_info": {
      "name": "python"
    }
  },
  "cells": [
    {
      "cell_type": "code",
      "source": [
        "import sys, os\n",
        "import gym\n",
        "import numpy as np\n",
        "import matplotlib.pyplot as plt\n",
        "import torch\n",
        "import torch.nn as nn\n",
        "import torch.optim as optim"
      ],
      "metadata": {
        "id": "J96m25s5Jae6"
      },
      "execution_count": 1,
      "outputs": []
    },
    {
      "cell_type": "code",
      "source": [
        "if type(os.environ.get(\"DISPLAY\")) is not str or len(os.environ.get(\"DISPLAY\")) == 0:\n",
        "    os.environ['DISPLAY'] = ':1'\n",
        "\n",
        "env = gym.make(\"CartPole-v0\")\n",
        "if hasattr(env, '_max_episode_steps'):\n",
        "    env = env.env\n",
        "env.reset()\n",
        "\n",
        "n_actions = env.action_space.n\n",
        "state_dim = env.observation_space.shape\n",
        "plt.imshow(env.render(\"rgb_array\"))"
      ],
      "metadata": {
        "colab": {
          "base_uri": "https://localhost:8080/",
          "height": 815
        },
        "id": "WidTz9IYJbuu",
        "outputId": "f4e9cc73-626b-4ae1-8c32-c571f56cf22c"
      },
      "execution_count": 2,
      "outputs": [
        {
          "output_type": "stream",
          "name": "stderr",
          "text": [
            "/usr/local/lib/python3.10/dist-packages/ipykernel/ipkernel.py:283: DeprecationWarning: `should_run_async` will not call `transform_cell` automatically in the future. Please pass the result to `transformed_cell` argument and any exception that happen during thetransform in `preprocessing_exc_tuple` in IPython 7.17 and above.\n",
            "  and should_run_async(code)\n",
            "/usr/local/lib/python3.10/dist-packages/gym/envs/registration.py:593: UserWarning: \u001b[33mWARN: The environment CartPole-v0 is out of date. You should consider upgrading to version `v1`.\u001b[0m\n",
            "  logger.warn(\n",
            "/usr/local/lib/python3.10/dist-packages/gym/core.py:317: DeprecationWarning: \u001b[33mWARN: Initializing wrapper in old step API which returns one bool instead of two. It is recommended to set `new_step_api=True` to use new step API. This will be the default behaviour in future.\u001b[0m\n",
            "  deprecation(\n",
            "/usr/local/lib/python3.10/dist-packages/gym/wrappers/step_api_compatibility.py:39: DeprecationWarning: \u001b[33mWARN: Initializing environment in old step API which returns one bool instead of two. It is recommended to set `new_step_api=True` to use new step API. This will be the default behaviour in future.\u001b[0m\n",
            "  deprecation(\n",
            "/usr/local/lib/python3.10/dist-packages/gym/core.py:43: DeprecationWarning: \u001b[33mWARN: The argument mode in render method is deprecated; use render_mode during environment initialization instead.\n",
            "See here for more information: https://www.gymlibrary.ml/content/api/\u001b[0m\n",
            "  deprecation(\n",
            "/usr/local/lib/python3.10/dist-packages/pygame/pkgdata.py:25: DeprecationWarning: pkg_resources is deprecated as an API. See https://setuptools.pypa.io/en/latest/pkg_resources.html\n",
            "  from pkg_resources import resource_stream, resource_exists\n",
            "/usr/local/lib/python3.10/dist-packages/pkg_resources/__init__.py:3154: DeprecationWarning: Deprecated call to `pkg_resources.declare_namespace('google')`.\n",
            "Implementing implicit namespace packages (as specified in PEP 420) is preferred to `pkg_resources.declare_namespace`. See https://setuptools.pypa.io/en/latest/references/keywords.html#keyword-namespace-packages\n",
            "  declare_namespace(pkg)\n",
            "/usr/local/lib/python3.10/dist-packages/pkg_resources/__init__.py:3154: DeprecationWarning: Deprecated call to `pkg_resources.declare_namespace('google.cloud')`.\n",
            "Implementing implicit namespace packages (as specified in PEP 420) is preferred to `pkg_resources.declare_namespace`. See https://setuptools.pypa.io/en/latest/references/keywords.html#keyword-namespace-packages\n",
            "  declare_namespace(pkg)\n",
            "/usr/local/lib/python3.10/dist-packages/pkg_resources/__init__.py:3154: DeprecationWarning: Deprecated call to `pkg_resources.declare_namespace('sphinxcontrib')`.\n",
            "Implementing implicit namespace packages (as specified in PEP 420) is preferred to `pkg_resources.declare_namespace`. See https://setuptools.pypa.io/en/latest/references/keywords.html#keyword-namespace-packages\n",
            "  declare_namespace(pkg)\n"
          ]
        },
        {
          "output_type": "execute_result",
          "data": {
            "text/plain": [
              "<matplotlib.image.AxesImage at 0x7a153a807f10>"
            ]
          },
          "metadata": {},
          "execution_count": 2
        },
        {
          "output_type": "display_data",
          "data": {
            "text/plain": [
              "<Figure size 640x480 with 1 Axes>"
            ],
            "image/png": "[encoded data removed]"
          },
          "metadata": {}
        }
      ]
    },
    {
      "cell_type": "code",
      "source": [
        "#модель\n",
        "model = nn.Sequential(\n",
        "    nn.Linear(state_dim[0], 128),\n",
        "    nn.ReLU(),\n",
        "    nn.Linear(128, n_actions)\n",
        ")"
      ],
      "metadata": {
        "colab": {
          "base_uri": "https://localhost:8080/"
        },
        "id": "lp2Kdj18LJVP",
        "outputId": "e2394ea9-6a0a-4919-8a85-1e08446fd8b4"
      },
      "execution_count": 3,
      "outputs": [
        {
          "output_type": "stream",
          "name": "stderr",
          "text": [
            "/usr/local/lib/python3.10/dist-packages/ipykernel/ipkernel.py:283: DeprecationWarning: `should_run_async` will not call `transform_cell` automatically in the future. Please pass the result to `transformed_cell` argument and any exception that happen during thetransform in `preprocessing_exc_tuple` in IPython 7.17 and above.\n",
            "  and should_run_async(code)\n"
          ]
        }
      ]
    },
    {
      "cell_type": "code",
      "source": [
        "def predict_probs(states):\n",
        "    \"\"\"\n",
        "    Прогнозирует вероятности действий при заданных состояниях.\n",
        "    :param states: numpy массив формы [batch, state_shape]\n",
        "    :returns: numpy массив формы [batch, n_actions]\n",
        "    \"\"\"\n",
        "    return model(torch.as_tensor(np.array(states))).softmax(dim=-1).data.numpy()"
      ],
      "metadata": {
        "id": "Rf1hk0PxOZ48"
      },
      "execution_count": 4,
      "outputs": []
    },
    {
      "cell_type": "markdown",
      "source": [
        "Игра с моделью"
      ],
      "metadata": {
        "id": "Gj842XJyOvx_"
      }
    },
    {
      "cell_type": "code",
      "source": [
        "def generate_session(env, t_max=1000):\n",
        "    \"\"\"\n",
        "    Сыграйте полную сессию с агентом REINFORCE.\n",
        "    Возвращает последовательности состояний, действий и наград.\n",
        "    \"\"\"\n",
        "    #массивы для записи сессии\n",
        "    states, actions, rewards = [], [], []\n",
        "    s = env.reset()\n",
        "\n",
        "    for t in range(t_max):\n",
        "        #прогнозируем вероятности действий\n",
        "        action_probs = predict_probs([s])\n",
        "        #пример действия с заданной вероятностью\n",
        "        a = np.random.choice(n_actions, p=action_probs[0])\n",
        "\n",
        "        new_s, r, done, info = env.step(a)\n",
        "        #записываем историю сессий, для последующего обучения\n",
        "        states.append(s)\n",
        "        actions.append(a)\n",
        "        rewards.append(r)\n",
        "\n",
        "        s = new_s\n",
        "        if done:\n",
        "            break\n",
        "\n",
        "    return states, actions, rewards"
      ],
      "metadata": {
        "id": "W-bE2F_IOgGk"
      },
      "execution_count": 5,
      "outputs": []
    },
    {
      "cell_type": "code",
      "source": [
        "#проверка\n",
        "states, actions, rewards = generate_session(env)"
      ],
      "metadata": {
        "colab": {
          "base_uri": "https://localhost:8080/"
        },
        "id": "x8MdvaWyd31b",
        "outputId": "f9d10249-5736-4032-e117-7549095e35cb"
      },
      "execution_count": 6,
      "outputs": [
        {
          "output_type": "stream",
          "name": "stderr",
          "text": [
            "/usr/local/lib/python3.10/dist-packages/gym/utils/passive_env_checker.py:241: DeprecationWarning: `np.bool8` is a deprecated alias for `np.bool_`.  (Deprecated NumPy 1.24)\n",
            "  if not isinstance(terminated, (bool, np.bool8)):\n"
          ]
        }
      ]
    },
    {
      "cell_type": "markdown",
      "source": [
        "Расчет кумулятивных вознаграждений"
      ],
      "metadata": {
        "id": "rP_ExSuXRtDV"
      }
    },
    {
      "cell_type": "code",
      "source": [
        "# Рассчитывает кумулятивные вознаграждения для каждого шага с учетом дисконтирования\n",
        "def get_cumulative_rewards(rewards, gamma=0.99):\n",
        "    cumulative_rewards = np.zeros_like(rewards, dtype=float)\n",
        "    cumulative_rewards[-1] = rewards[-1]\n",
        "\n",
        "    for t in range(len(rewards)-2, -1, -1): # Идем по вознаграждениям в обратном порядке (с конца)\n",
        "        cumulative_rewards[t] = rewards[t] + gamma * cumulative_rewards[t+1]\n",
        "\n",
        "    return cumulative_rewards"
      ],
      "metadata": {
        "id": "TKY6-X6TRshy"
      },
      "execution_count": 7,
      "outputs": []
    },
    {
      "cell_type": "code",
      "source": [
        "#тесты\n",
        "get_cumulative_rewards(rewards)\n",
        "assert len(get_cumulative_rewards(list(range(100)))) == 100\n",
        "assert np.allclose(\n",
        "    get_cumulative_rewards([0, 0, 1, 0, 0, 1, 0], gamma=0.9),\n",
        "    [1.40049, 1.5561, 1.729, 0.81, 0.9, 1.0, 0.0])\n",
        "assert np.allclose(\n",
        "    get_cumulative_rewards([0, 0, 1, -2, 3, -4, 0], gamma=0.5),\n",
        "    [0.0625, 0.125, 0.25, -1.5, 1.0, -4.0, 0.0])\n",
        "assert np.allclose(\n",
        "    get_cumulative_rewards([0, 0, 1, 2, 3, 4, 0], gamma=0),\n",
        "    [0, 0, 1, 2, 3, 4, 0])\n",
        "print(\"looks good!\")"
      ],
      "metadata": {
        "colab": {
          "base_uri": "https://localhost:8080/"
        },
        "id": "2F1Wjc3cSc0l",
        "outputId": "da86e739-3f8e-41a5-89e8-40713382cae9"
      },
      "execution_count": 8,
      "outputs": [
        {
          "output_type": "stream",
          "name": "stdout",
          "text": [
            "looks good!\n"
          ]
        }
      ]
    },
    {
      "cell_type": "markdown",
      "source": [
        "Функция потерь и обновления"
      ],
      "metadata": {
        "id": "DKRJW-KFU_vy"
      }
    },
    {
      "cell_type": "code",
      "source": [
        "# Функция потерь и обновлений\n",
        "def compute_loss(log_policy_for_actions, cumulative_rewards, policy, gamma=0.99):\n",
        "    J = torch.mean(log_policy_for_actions * cumulative_rewards) #рассчитываем ожидаемую сумму вознаграждений для каждого действия\n",
        "    entropy = -torch.mean(torch.sum(policy * torch.log(policy), dim=1))#вычисляем энтропию стратегии для регуляризации (чтобы избежать слишком детерминированных действий)\n",
        "    loss = -(J + 0.1 * entropy) # итоговые потери\n",
        "    return loss"
      ],
      "metadata": {
        "id": "sUbHNMmCUYbo"
      },
      "execution_count": 9,
      "outputs": []
    },
    {
      "cell_type": "code",
      "source": [
        "# Инициализация оптимизатора\n",
        "optimizer = optim.Adam(model.parameters(), lr=0.001)"
      ],
      "metadata": {
        "id": "uO-3Avh6OUT9"
      },
      "execution_count": 10,
      "outputs": []
    },
    {
      "cell_type": "code",
      "source": [
        "# Функция обучения на одной сессии\n",
        "def train_on_session(states, actions, rewards, t_max=1000):\n",
        "    \"\"\"в полном объеме обучает агента градиенту политики\"\"\"\n",
        "    cumulative_rewards = get_cumulative_rewards(rewards)\n",
        "\n",
        "    # Преобразуем списки состояний, действий и вознаграждений в тензоры PyTorch\n",
        "    states_tensor = torch.tensor(np.array(states), dtype=torch.float32)\n",
        "    actions_tensor = torch.tensor(actions, dtype=torch.long)\n",
        "    cumulative_rewards_tensor = torch.tensor(cumulative_rewards, dtype=torch.float32)\n",
        "\n",
        "    logits = model(states_tensor)# Получаем логииты для каждого состояния\n",
        "    log_policy = torch.nn.functional.log_softmax(logits, dim=-1)# Применяем log-softmax для получения логарифмов вероятностей\n",
        "\n",
        "    # Используем прямое индексирование для извлечения log_policy для выбранных действий\n",
        "    indices = torch.arange(log_policy.size(0), dtype=torch.long)\n",
        "    log_policy_for_actions = log_policy[indices, actions_tensor]\n",
        "    # Вычисляем потери\n",
        "    loss = compute_loss(log_policy_for_actions, cumulative_rewards_tensor, torch.softmax(log_policy, dim=-1))\n",
        "\n",
        "    optimizer.zero_grad()\n",
        "    loss.backward()\n",
        "    optimizer.step()\n",
        "\n",
        "    return sum(rewards)"
      ],
      "metadata": {
        "colab": {
          "base_uri": "https://localhost:8080/"
        },
        "id": "yu2snZGDUiMz",
        "outputId": "168a86e4-3d1a-40ea-a2da-3ef069e720bc"
      },
      "execution_count": 11,
      "outputs": [
        {
          "output_type": "stream",
          "name": "stderr",
          "text": [
            "/usr/local/lib/python3.10/dist-packages/ipykernel/ipkernel.py:283: DeprecationWarning: `should_run_async` will not call `transform_cell` automatically in the future. Please pass the result to `transformed_cell` argument and any exception that happen during thetransform in `preprocessing_exc_tuple` in IPython 7.17 and above.\n",
            "  and should_run_async(code)\n"
          ]
        }
      ]
    },
    {
      "cell_type": "code",
      "source": [
        "# Инициализация оптимизированных параметров\n",
        "model.train()\n",
        "\n",
        "# Главный цикл обучения\n",
        "for i in range(100):\n",
        "    rewards = [train_on_session(*generate_session(env)) for _ in range(100)]  # создание новой сессии\n",
        "    print(\"mean reward: %.3f\" % (np.mean(rewards)))\n",
        "    if np.mean(rewards) > 300:\n",
        "        print(\"You Win!\")\n",
        "        break"
      ],
      "metadata": {
        "colab": {
          "base_uri": "https://localhost:8080/"
        },
        "id": "rQPNOLnHUmPJ",
        "outputId": "53977e68-989e-4078-b763-d5766b11f421"
      },
      "execution_count": 12,
      "outputs": [
        {
          "output_type": "stream",
          "name": "stdout",
          "text": [
            "mean reward: 27.940\n",
            "mean reward: 34.860\n",
            "mean reward: 46.490\n",
            "mean reward: 49.980\n",
            "mean reward: 95.010\n",
            "mean reward: 175.700\n",
            "mean reward: 144.240\n",
            "mean reward: 299.390\n",
            "mean reward: 391.490\n",
            "You Win!\n"
          ]
        }
      ]
    }
  ]
}